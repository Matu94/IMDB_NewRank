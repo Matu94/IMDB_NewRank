{
 "cells": [
  {
   "cell_type": "markdown",
   "id": "b027fe3a",
   "metadata": {},
   "source": [
    "# IMDB new rank\n",
    "## Creating a new ranking system"
   ]
  },
  {
   "cell_type": "code",
   "execution_count": 174,
   "id": "be87cfde",
   "metadata": {},
   "outputs": [],
   "source": [
    "from bs4 import BeautifulSoup as bs\n",
    "import requests"
   ]
  },
  {
   "cell_type": "code",
   "execution_count": 236,
   "id": "cf9dc297",
   "metadata": {},
   "outputs": [],
   "source": [
    "url = \"https://www.imdb.com/chart/top/\"\n",
    "response = requests.get(url)\n",
    "html = response.content\n",
    "soup = bs(html, \"lxml\")\n",
    "\n",
    "alldata = []"
   ]
  },
  {
   "cell_type": "code",
   "execution_count": 237,
   "id": "ee60f9d7",
   "metadata": {},
   "outputs": [],
   "source": [
    "#Get every movies\n",
    "movies = soup.select('td.titleColumn')"
   ]
  },
  {
   "cell_type": "code",
   "execution_count": null,
   "id": "5cca5568",
   "metadata": {
    "scrolled": false
   },
   "outputs": [],
   "source": []
  },
  {
   "cell_type": "code",
   "execution_count": 238,
   "id": "feb302a8",
   "metadata": {},
   "outputs": [],
   "source": [
    "\n",
    "for index in range(10):\n",
    "    title = (' '.join(movies[index].get_text().split()[1:-1]))\n",
    "    \n",
    "    data = {\"Title\": title}\n",
    "    \n",
    "    alldata.append(data)\n"
   ]
  },
  {
   "cell_type": "code",
   "execution_count": 239,
   "id": "f3734444",
   "metadata": {},
   "outputs": [
    {
     "data": {
      "text/plain": [
       "[{'Title': 'A remény rabjai'},\n",
       " {'Title': 'A keresztapa'},\n",
       " {'Title': 'A keresztapa II'},\n",
       " {'Title': 'A sötét lovag'},\n",
       " {'Title': 'Tizenkét dühös ember'},\n",
       " {'Title': 'Schindler listája'},\n",
       " {'Title': 'A Gyűrűk Ura: A király visszatér'},\n",
       " {'Title': 'Ponyvaregény'},\n",
       " {'Title': 'A Jó, a Rossz és a Csúf'},\n",
       " {'Title': 'A Gyűrűk Ura: A gyűrű szövetsége'}]"
      ]
     },
     "execution_count": 239,
     "metadata": {},
     "output_type": "execute_result"
    }
   ],
   "source": [
    "alldata"
   ]
  },
  {
   "cell_type": "markdown",
   "id": "e77d4175",
   "metadata": {},
   "source": [
    "## Title formatting: "
   ]
  },
  {
   "cell_type": "code",
   "execution_count": 73,
   "id": "28547e45",
   "metadata": {},
   "outputs": [
    {
     "data": {
      "text/plain": [
       "<td class=\"titleColumn\">\n",
       "      1.\n",
       "      <a href=\"/title/tt0111161/\" title=\"Frank Darabont (dir.), Tim Robbins, Morgan Freeman\">A remény rabjai</a>\n",
       "<span class=\"secondaryInfo\">(1994)</span>\n",
       "</td>"
      ]
     },
     "execution_count": 73,
     "metadata": {},
     "output_type": "execute_result"
    }
   ],
   "source": [
    "#Check the string formatting:\n",
    "movies[0]"
   ]
  },
  {
   "cell_type": "code",
   "execution_count": 74,
   "id": "bda89e3c",
   "metadata": {},
   "outputs": [
    {
     "data": {
      "text/plain": [
       "'\\n      1.\\n      A remény rabjai\\n(1994)\\n'"
      ]
     },
     "execution_count": 74,
     "metadata": {},
     "output_type": "execute_result"
    }
   ],
   "source": [
    "movies[0].get_text()\n"
   ]
  },
  {
   "cell_type": "code",
   "execution_count": 75,
   "id": "98329c8e",
   "metadata": {},
   "outputs": [
    {
     "data": {
      "text/plain": [
       "['1.', 'A', 'remény', 'rabjai', '(1994)']"
      ]
     },
     "execution_count": 75,
     "metadata": {},
     "output_type": "execute_result"
    }
   ],
   "source": [
    "movies[0].get_text().split()\n"
   ]
  },
  {
   "cell_type": "code",
   "execution_count": 76,
   "id": "47983135",
   "metadata": {},
   "outputs": [
    {
     "data": {
      "text/plain": [
       "['A', 'remény', 'rabjai']"
      ]
     },
     "execution_count": 76,
     "metadata": {},
     "output_type": "execute_result"
    }
   ],
   "source": [
    "movies[0].get_text().split()[1:-1]"
   ]
  },
  {
   "cell_type": "code",
   "execution_count": 126,
   "id": "bf93336e",
   "metadata": {},
   "outputs": [
    {
     "data": {
      "text/plain": [
       "'A remény rabjai'"
      ]
     },
     "execution_count": 126,
     "metadata": {},
     "output_type": "execute_result"
    }
   ],
   "source": [
    "(' '.join(movies[0].get_text().split()[1:-1]))"
   ]
  },
  {
   "cell_type": "code",
   "execution_count": null,
   "id": "26a97c81",
   "metadata": {},
   "outputs": [],
   "source": []
  },
  {
   "cell_type": "code",
   "execution_count": null,
   "id": "2efb7c27",
   "metadata": {},
   "outputs": [],
   "source": [
    "\n",
    "\n",
    "\n"
   ]
  },
  {
   "cell_type": "markdown",
   "id": "0f1c3b95",
   "metadata": {},
   "source": [
    "# Dummy data for test"
   ]
  },
  {
   "cell_type": "code",
   "execution_count": null,
   "id": "2e975089",
   "metadata": {},
   "outputs": [],
   "source": [
    "dataset = [{\n",
    "        \"Name\" : \"Movie1\",\n",
    "        \"Reviews\" : 100,\n",
    "        \"Oscar\" : 1,\n",
    "        \"Score\" : 2.2\n",
    "    },\n",
    "   {\n",
    "        \"Name\" : \"Movie2\",\n",
    "        \"Reviews\" : 200,\n",
    "        \"Oscar\" : 2,\n",
    "        \"Score\" : 2.5\n",
    "   }, \n",
    "    {\n",
    "        \"Name\" : \"Movie3\",\n",
    "        \"Reviews\" : 300,\n",
    "        \"Oscar\" : 3,\n",
    "        \"Score\" : 2.8\n",
    "   } \n",
    "]"
   ]
  },
  {
   "cell_type": "code",
   "execution_count": 2,
   "id": "5ebb409f",
   "metadata": {},
   "outputs": [
    {
     "data": {
      "text/plain": [
       "[{'Name': 'Movie1', 'Reviews': 100, 'Oscar': 1, 'Score': 2.2},\n",
       " {'Name': 'Movie2', 'Reviews': 200, 'Oscar': 2, 'Score': 2.5},\n",
       " {'Name': 'Movie3', 'Reviews': 300, 'Oscar': 3, 'Score': 2.8}]"
      ]
     },
     "execution_count": 2,
     "metadata": {},
     "output_type": "execute_result"
    }
   ],
   "source": [
    "dataset"
   ]
  },
  {
   "cell_type": "code",
   "execution_count": 2,
   "id": "8a59ab25",
   "metadata": {},
   "outputs": [],
   "source": [
    "reviewslist = []\n",
    "for data in dataset: #végigmegyek az egyes dictionary-kon\n",
    "    reviewslist.append(data['Reviews']) #az adott dictionary 'reviews' értékét hozzáadom egy listához\n",
    "\n",
    "maxreview = max(reviewslist)"
   ]
  },
  {
   "cell_type": "code",
   "execution_count": 4,
   "id": "65032450",
   "metadata": {},
   "outputs": [
    {
     "data": {
      "text/plain": [
       "300"
      ]
     },
     "execution_count": 4,
     "metadata": {},
     "output_type": "execute_result"
    }
   ],
   "source": [
    "maxreview"
   ]
  },
  {
   "cell_type": "code",
   "execution_count": 4,
   "id": "d748777b",
   "metadata": {},
   "outputs": [],
   "source": [
    "for data in dataset:\n",
    "    if data['Reviews'] < maxreview:\n",
    "        data['Score'] = (data['Score'] - ((maxreview - data['Reviews']) / 100) * 0.1)        "
   ]
  },
  {
   "cell_type": "code",
   "execution_count": 5,
   "id": "26a0c59e",
   "metadata": {},
   "outputs": [
    {
     "data": {
      "text/plain": [
       "[{'Name': 'Movie1', 'Reviews': 100, 'Oscar': 1, 'Score': 2.0},\n",
       " {'Name': 'Movie2', 'Reviews': 200, 'Oscar': 2, 'Score': 2.4},\n",
       " {'Name': 'Movie3', 'Reviews': 300, 'Oscar': 3, 'Score': 2.8}]"
      ]
     },
     "execution_count": 5,
     "metadata": {},
     "output_type": "execute_result"
    }
   ],
   "source": [
    "dataset"
   ]
  },
  {
   "cell_type": "code",
   "execution_count": 6,
   "id": "031e09ff",
   "metadata": {},
   "outputs": [],
   "source": [
    "for data in dataset:\n",
    "    if data['Oscar'] != 0:\n",
    "        data['Score'] = data['Score'] + (data['Oscar'] * 0.1)"
   ]
  },
  {
   "cell_type": "code",
   "execution_count": 8,
   "id": "fdcf383d",
   "metadata": {},
   "outputs": [
    {
     "data": {
      "text/plain": [
       "[{'Name': 'Movie1', 'Reviews': 100, 'Oscar': 1, 'Score': 2.1},\n",
       " {'Name': 'Movie2', 'Reviews': 200, 'Oscar': 2, 'Score': 2.6},\n",
       " {'Name': 'Movie3', 'Reviews': 300, 'Oscar': 3, 'Score': 3.0999999999999996}]"
      ]
     },
     "execution_count": 8,
     "metadata": {},
     "output_type": "execute_result"
    }
   ],
   "source": [
    "dataset"
   ]
  },
  {
   "cell_type": "code",
   "execution_count": null,
   "id": "1bccb2a7",
   "metadata": {},
   "outputs": [],
   "source": []
  },
  {
   "cell_type": "code",
   "execution_count": 13,
   "id": "840feb45",
   "metadata": {},
   "outputs": [],
   "source": [
    "dataset = sorted(dataset, key = lambda i: i['Score'], reverse = True)"
   ]
  },
  {
   "cell_type": "code",
   "execution_count": 14,
   "id": "7d323a2c",
   "metadata": {},
   "outputs": [
    {
     "data": {
      "text/plain": [
       "[{'Name': 'Movie3', 'Reviews': 300, 'Oscar': 3, 'Score': 3.0999999999999996},\n",
       " {'Name': 'Movie2', 'Reviews': 200, 'Oscar': 2, 'Score': 2.6},\n",
       " {'Name': 'Movie1', 'Reviews': 100, 'Oscar': 1, 'Score': 2.1}]"
      ]
     },
     "execution_count": 14,
     "metadata": {},
     "output_type": "execute_result"
    }
   ],
   "source": [
    "dataset"
   ]
  },
  {
   "cell_type": "code",
   "execution_count": null,
   "id": "8eda89ea",
   "metadata": {},
   "outputs": [],
   "source": []
  }
 ],
 "metadata": {
  "kernelspec": {
   "display_name": "Python 3 (ipykernel)",
   "language": "python",
   "name": "python3"
  },
  "language_info": {
   "codemirror_mode": {
    "name": "ipython",
    "version": 3
   },
   "file_extension": ".py",
   "mimetype": "text/x-python",
   "name": "python",
   "nbconvert_exporter": "python",
   "pygments_lexer": "ipython3",
   "version": "3.10.2"
  }
 },
 "nbformat": 4,
 "nbformat_minor": 5
}
