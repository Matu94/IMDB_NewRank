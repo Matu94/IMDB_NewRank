{
 "cells": [
  {
   "cell_type": "markdown",
   "id": "b027fe3a",
   "metadata": {},
   "source": [
    "# IMDB new rank\n",
    "## Creating a new ranking system\n",
    "### this is just a sandbox, check out the .py file"
   ]
  },
  {
   "cell_type": "code",
   "execution_count": 132,
   "id": "be87cfde",
   "metadata": {},
   "outputs": [],
   "source": [
    "from bs4 import BeautifulSoup as bs\n",
    "import requests"
   ]
  },
  {
   "cell_type": "code",
   "execution_count": 133,
   "id": "cf9dc297",
   "metadata": {},
   "outputs": [],
   "source": [
    "url = \"https://www.imdb.com/chart/top/\"\n",
    "response = requests.get(url)\n",
    "html = response.content\n",
    "soup = bs(html, \"lxml\")"
   ]
  },
  {
   "cell_type": "code",
   "execution_count": 134,
   "id": "ee60f9d7",
   "metadata": {},
   "outputs": [],
   "source": [
    "#Get every movies links scores reviews\n",
    "movies = soup.select('td.titleColumn')\n",
    "links = soup.select('td.titleColumn a')\n",
    "scores = soup.select('td.ratingColumn strong')\n",
    "reviews = soup.select('td.ratingColumn strong')\n",
    "\n",
    "\n",
    "alldata = []"
   ]
  },
  {
   "cell_type": "code",
   "execution_count": 135,
   "id": "feb302a8",
   "metadata": {},
   "outputs": [],
   "source": [
    "\n",
    "for index in range(10):\n",
    "    \n",
    "    #Get the title\n",
    "    title = (' '.join(movies[index].get_text().split()[1:-1]))\n",
    "    \n",
    "    #Get the link\n",
    "    link = links[index].attrs.get(\"href\")\n",
    "    \n",
    "    #Get the review\n",
    "    score = scores[index].get_text()\n",
    "        \n",
    "    review = str(reviews[index])\n",
    "    start = review.find(\"on \") + 3\n",
    "    end = review.find(\" user \")\n",
    "    review = review[start:end]\n",
    "    \n",
    "    #Get the oscars\n",
    "    url = f'https://www.imdb.com{link}'\n",
    "    response = requests.get(url)\n",
    "    html = response.content\n",
    "    soup = bs(html, \"lxml\")\n",
    "    soup = soup.find('section', class_='ipc-page-section ipc-page-section--base celwidget')\n",
    "    soup = soup.find('a', class_='ipc-metadata-list-item__label ipc-metadata-list-item__label--link')\n",
    "    oscar = soup.get_text()[4:-7]\n",
    "\n",
    "        \n",
    "        \n",
    "    data = {\"Title\": title,\n",
    "           \"Link\": f'https://www.imdb.com{link}',\n",
    "           \"Score\": score,\n",
    "           \"Review\": review,\n",
    "           \"Oscar\" : oscar}\n",
    "    \n",
    "    alldata.append(data)\n"
   ]
  },
  {
   "cell_type": "code",
   "execution_count": 136,
   "id": "f3734444",
   "metadata": {},
   "outputs": [
    {
     "data": {
      "text/plain": [
       "[{'Title': 'A remény rabjai',\n",
       "  'Link': 'https://www.imdb.com/title/tt0111161/',\n",
       "  'Score': '9.2',\n",
       "  'Review': '2,546,310',\n",
       "  'Oscar': 'nated for 7'},\n",
       " {'Title': 'A keresztapa',\n",
       "  'Link': 'https://www.imdb.com/title/tt0068646/',\n",
       "  'Score': '9.1',\n",
       "  'Review': '1,751,620',\n",
       "  'Oscar': '3'},\n",
       " {'Title': 'A keresztapa II',\n",
       "  'Link': 'https://www.imdb.com/title/tt0071562/',\n",
       "  'Score': '9.0',\n",
       "  'Review': '1,214,750',\n",
       "  'Oscar': '6'},\n",
       " {'Title': 'A sötét lovag',\n",
       "  'Link': 'https://www.imdb.com/title/tt0468569/',\n",
       "  'Score': '9.0',\n",
       "  'Review': '2,496,675',\n",
       "  'Oscar': '2'},\n",
       " {'Title': 'Tizenkét dühös ember',\n",
       "  'Link': 'https://www.imdb.com/title/tt0050083/',\n",
       "  'Score': '8.9',\n",
       "  'Review': '752,431',\n",
       "  'Oscar': 'nated for 3'},\n",
       " {'Title': 'Schindler listája',\n",
       "  'Link': 'https://www.imdb.com/title/tt0108052/',\n",
       "  'Score': '8.9',\n",
       "  'Review': '1,299,741',\n",
       "  'Oscar': '7'},\n",
       " {'Title': 'A Gyűrűk Ura: A király visszatér',\n",
       "  'Link': 'https://www.imdb.com/title/tt0167260/',\n",
       "  'Score': '8.9',\n",
       "  'Review': '1,755,208',\n",
       "  'Oscar': '11'},\n",
       " {'Title': 'Ponyvaregény',\n",
       "  'Link': 'https://www.imdb.com/title/tt0110912/',\n",
       "  'Score': '8.8',\n",
       "  'Review': '1,958,506',\n",
       "  'Oscar': ''},\n",
       " {'Title': 'A Jó, a Rossz és a Csúf',\n",
       "  'Link': 'https://www.imdb.com/title/tt0060196/',\n",
       "  'Score': '8.8',\n",
       "  'Review': '734,577',\n",
       "  'Oscar': ''},\n",
       " {'Title': 'A Gyűrűk Ura: A gyűrű szövetsége',\n",
       "  'Link': 'https://www.imdb.com/title/tt0120737/',\n",
       "  'Score': '8.8',\n",
       "  'Review': '1,776,991',\n",
       "  'Oscar': '4'}]"
      ]
     },
     "execution_count": 136,
     "metadata": {},
     "output_type": "execute_result"
    }
   ],
   "source": [
    "alldata"
   ]
  },
  {
   "cell_type": "markdown",
   "id": "e77d4175",
   "metadata": {},
   "source": [
    "## Title formatting: "
   ]
  },
  {
   "cell_type": "code",
   "execution_count": 73,
   "id": "28547e45",
   "metadata": {},
   "outputs": [
    {
     "data": {
      "text/plain": [
       "<td class=\"titleColumn\">\n",
       "      1.\n",
       "      <a href=\"/title/tt0111161/\" title=\"Frank Darabont (dir.), Tim Robbins, Morgan Freeman\">A remény rabjai</a>\n",
       "<span class=\"secondaryInfo\">(1994)</span>\n",
       "</td>"
      ]
     },
     "execution_count": 73,
     "metadata": {},
     "output_type": "execute_result"
    }
   ],
   "source": [
    "#Check the string formatting:\n",
    "movies[0]"
   ]
  },
  {
   "cell_type": "code",
   "execution_count": 74,
   "id": "bda89e3c",
   "metadata": {},
   "outputs": [
    {
     "data": {
      "text/plain": [
       "'\\n      1.\\n      A remény rabjai\\n(1994)\\n'"
      ]
     },
     "execution_count": 74,
     "metadata": {},
     "output_type": "execute_result"
    }
   ],
   "source": [
    "movies[0].get_text()\n"
   ]
  },
  {
   "cell_type": "code",
   "execution_count": 75,
   "id": "98329c8e",
   "metadata": {},
   "outputs": [
    {
     "data": {
      "text/plain": [
       "['1.', 'A', 'remény', 'rabjai', '(1994)']"
      ]
     },
     "execution_count": 75,
     "metadata": {},
     "output_type": "execute_result"
    }
   ],
   "source": [
    "movies[0].get_text().split()\n"
   ]
  },
  {
   "cell_type": "code",
   "execution_count": 76,
   "id": "47983135",
   "metadata": {},
   "outputs": [
    {
     "data": {
      "text/plain": [
       "['A', 'remény', 'rabjai']"
      ]
     },
     "execution_count": 76,
     "metadata": {},
     "output_type": "execute_result"
    }
   ],
   "source": [
    "movies[0].get_text().split()[1:-1]"
   ]
  },
  {
   "cell_type": "code",
   "execution_count": 126,
   "id": "bf93336e",
   "metadata": {},
   "outputs": [
    {
     "data": {
      "text/plain": [
       "'A remény rabjai'"
      ]
     },
     "execution_count": 126,
     "metadata": {},
     "output_type": "execute_result"
    }
   ],
   "source": [
    "(' '.join(movies[0].get_text().split()[1:-1]))"
   ]
  },
  {
   "cell_type": "code",
   "execution_count": null,
   "id": "26a97c81",
   "metadata": {},
   "outputs": [],
   "source": []
  },
  {
   "cell_type": "markdown",
   "id": "9b6a18d9",
   "metadata": {},
   "source": [
    "## Get the links \n",
    "\n"
   ]
  },
  {
   "cell_type": "code",
   "execution_count": 56,
   "id": "bea70c28",
   "metadata": {},
   "outputs": [],
   "source": [
    "links = soup.select('td.titleColumn a')"
   ]
  },
  {
   "cell_type": "code",
   "execution_count": 57,
   "id": "514d502e",
   "metadata": {},
   "outputs": [
    {
     "data": {
      "text/plain": [
       "<a href=\"/title/tt0111161/\" title=\"Frank Darabont (dir.), Tim Robbins, Morgan Freeman\">A remény rabjai</a>"
      ]
     },
     "execution_count": 57,
     "metadata": {},
     "output_type": "execute_result"
    }
   ],
   "source": [
    "links[0]"
   ]
  },
  {
   "cell_type": "code",
   "execution_count": 64,
   "id": "f2bafa21",
   "metadata": {},
   "outputs": [],
   "source": [
    "\n",
    "link = links[0].attrs.get(\"href\")\n",
    "    \n"
   ]
  },
  {
   "cell_type": "code",
   "execution_count": 65,
   "id": "bcc4412b",
   "metadata": {},
   "outputs": [],
   "source": [
    "link = f'https://www.imdb.com{link}'"
   ]
  },
  {
   "cell_type": "code",
   "execution_count": 66,
   "id": "cea8bdc8",
   "metadata": {},
   "outputs": [
    {
     "data": {
      "text/plain": [
       "'https://www.imdb.com/title/tt0111161/'"
      ]
     },
     "execution_count": 66,
     "metadata": {},
     "output_type": "execute_result"
    }
   ],
   "source": [
    "link"
   ]
  },
  {
   "cell_type": "markdown",
   "id": "40b5078c",
   "metadata": {},
   "source": [
    "## Get the imdb rating score "
   ]
  },
  {
   "cell_type": "code",
   "execution_count": 77,
   "id": "f1e31814",
   "metadata": {},
   "outputs": [],
   "source": [
    "score = soup.select('td.ratingColumn strong')"
   ]
  },
  {
   "cell_type": "code",
   "execution_count": 82,
   "id": "6dd0242f",
   "metadata": {},
   "outputs": [
    {
     "data": {
      "text/plain": [
       "'9.2'"
      ]
     },
     "execution_count": 82,
     "metadata": {},
     "output_type": "execute_result"
    }
   ],
   "source": [
    "score[0].get_text()"
   ]
  },
  {
   "cell_type": "code",
   "execution_count": null,
   "id": "41e104cc",
   "metadata": {},
   "outputs": [],
   "source": []
  },
  {
   "cell_type": "markdown",
   "id": "4005864f",
   "metadata": {},
   "source": [
    "## Get the number of votes as Reviews"
   ]
  },
  {
   "cell_type": "code",
   "execution_count": 137,
   "id": "b7796941",
   "metadata": {},
   "outputs": [],
   "source": [
    "reviews = soup.select('td.ratingColumn strong')"
   ]
  },
  {
   "cell_type": "code",
   "execution_count": 138,
   "id": "78fda2db",
   "metadata": {},
   "outputs": [
    {
     "data": {
      "text/plain": [
       "<strong title=\"9.2 based on 2,544,410 user ratings\">9.2</strong>"
      ]
     },
     "execution_count": 138,
     "metadata": {},
     "output_type": "execute_result"
    }
   ],
   "source": [
    "reviews[0]"
   ]
  },
  {
   "cell_type": "code",
   "execution_count": 141,
   "id": "c05801f3",
   "metadata": {},
   "outputs": [
    {
     "data": {
      "text/plain": [
       "str"
      ]
     },
     "execution_count": 141,
     "metadata": {},
     "output_type": "execute_result"
    }
   ],
   "source": [
    "type(str(reviews[0]))"
   ]
  },
  {
   "cell_type": "code",
   "execution_count": 183,
   "id": "3356adc1",
   "metadata": {},
   "outputs": [],
   "source": [
    "revstring = str(reviews[0])"
   ]
  },
  {
   "cell_type": "code",
   "execution_count": 184,
   "id": "d1d2949f",
   "metadata": {},
   "outputs": [],
   "source": [
    "start = revstring.find(\"on \") + 3"
   ]
  },
  {
   "cell_type": "code",
   "execution_count": 185,
   "id": "2ee63341",
   "metadata": {},
   "outputs": [],
   "source": [
    "end = revstring.find(\" user \")"
   ]
  },
  {
   "cell_type": "code",
   "execution_count": 186,
   "id": "e4f93091",
   "metadata": {},
   "outputs": [],
   "source": [
    "revstring = revstring[start:end]"
   ]
  },
  {
   "cell_type": "code",
   "execution_count": 187,
   "id": "4b0dd05c",
   "metadata": {},
   "outputs": [
    {
     "data": {
      "text/plain": [
       "'2,544,410'"
      ]
     },
     "execution_count": 187,
     "metadata": {},
     "output_type": "execute_result"
    }
   ],
   "source": [
    "revstring"
   ]
  },
  {
   "cell_type": "code",
   "execution_count": null,
   "id": "eaf6e2f4",
   "metadata": {},
   "outputs": [],
   "source": []
  },
  {
   "cell_type": "code",
   "execution_count": null,
   "id": "55b56350",
   "metadata": {},
   "outputs": [],
   "source": []
  },
  {
   "cell_type": "markdown",
   "id": "dc2c9037",
   "metadata": {},
   "source": [
    "## Get number of oscars "
   ]
  },
  {
   "cell_type": "code",
   "execution_count": 157,
   "id": "41b1e761",
   "metadata": {},
   "outputs": [],
   "source": [
    "url = \"https://www.imdb.com/title/tt0068646/\"\n",
    "response = requests.get(url)\n",
    "html = response.content\n",
    "soup = bs(html, \"lxml\")"
   ]
  },
  {
   "cell_type": "code",
   "execution_count": 158,
   "id": "c7216240",
   "metadata": {},
   "outputs": [],
   "source": [
    "soup = soup.find('section', class_='ipc-page-section ipc-page-section--base celwidget')"
   ]
  },
  {
   "cell_type": "code",
   "execution_count": 159,
   "id": "c944c4a9",
   "metadata": {},
   "outputs": [],
   "source": [
    "soup = soup.find('a', class_='ipc-metadata-list-item__label ipc-metadata-list-item__label--link')"
   ]
  },
  {
   "cell_type": "code",
   "execution_count": 165,
   "id": "28c19a88",
   "metadata": {},
   "outputs": [],
   "source": [
    "oscar = soup.get_text()[4:-7]"
   ]
  },
  {
   "cell_type": "code",
   "execution_count": 166,
   "id": "49cffa8f",
   "metadata": {},
   "outputs": [
    {
     "data": {
      "text/plain": [
       "'3'"
      ]
     },
     "execution_count": 166,
     "metadata": {},
     "output_type": "execute_result"
    }
   ],
   "source": [
    "oscar"
   ]
  },
  {
   "cell_type": "code",
   "execution_count": 167,
   "id": "e354ff09",
   "metadata": {},
   "outputs": [
    {
     "data": {
      "text/plain": [
       "1"
      ]
     },
     "execution_count": 167,
     "metadata": {},
     "output_type": "execute_result"
    }
   ],
   "source": [
    "len(oscar)"
   ]
  },
  {
   "cell_type": "code",
   "execution_count": 168,
   "id": "03a8f066",
   "metadata": {},
   "outputs": [],
   "source": [
    "if len(oscar) != 1:\n",
    "    oscar = '0'"
   ]
  },
  {
   "cell_type": "code",
   "execution_count": 169,
   "id": "1d30d821",
   "metadata": {},
   "outputs": [
    {
     "data": {
      "text/plain": [
       "'3'"
      ]
     },
     "execution_count": 169,
     "metadata": {},
     "output_type": "execute_result"
    }
   ],
   "source": [
    "oscar"
   ]
  },
  {
   "cell_type": "code",
   "execution_count": null,
   "id": "11837a6d",
   "metadata": {},
   "outputs": [],
   "source": []
  },
  {
   "cell_type": "code",
   "execution_count": null,
   "id": "a5fa8b80",
   "metadata": {},
   "outputs": [],
   "source": []
  },
  {
   "cell_type": "markdown",
   "id": "0f1c3b95",
   "metadata": {},
   "source": [
    "# Dummy data for test"
   ]
  },
  {
   "cell_type": "code",
   "execution_count": null,
   "id": "2e975089",
   "metadata": {},
   "outputs": [],
   "source": [
    "dataset = [{\n",
    "        \"Name\" : \"Movie1\",\n",
    "        \"Reviews\" : 100,\n",
    "        \"Oscar\" : 1,\n",
    "        \"Score\" : 2.2\n",
    "    },\n",
    "   {\n",
    "        \"Name\" : \"Movie2\",\n",
    "        \"Reviews\" : 200,\n",
    "        \"Oscar\" : 2,\n",
    "        \"Score\" : 2.5\n",
    "   }, \n",
    "    {\n",
    "        \"Name\" : \"Movie3\",\n",
    "        \"Reviews\" : 300,\n",
    "        \"Oscar\" : 3,\n",
    "        \"Score\" : 2.8\n",
    "   } \n",
    "]"
   ]
  },
  {
   "cell_type": "code",
   "execution_count": 2,
   "id": "5ebb409f",
   "metadata": {},
   "outputs": [
    {
     "data": {
      "text/plain": [
       "[{'Name': 'Movie1', 'Reviews': 100, 'Oscar': 1, 'Score': 2.2},\n",
       " {'Name': 'Movie2', 'Reviews': 200, 'Oscar': 2, 'Score': 2.5},\n",
       " {'Name': 'Movie3', 'Reviews': 300, 'Oscar': 3, 'Score': 2.8}]"
      ]
     },
     "execution_count": 2,
     "metadata": {},
     "output_type": "execute_result"
    }
   ],
   "source": [
    "dataset"
   ]
  },
  {
   "cell_type": "code",
   "execution_count": 2,
   "id": "8a59ab25",
   "metadata": {},
   "outputs": [],
   "source": [
    "reviewslist = []\n",
    "for data in dataset: #végigmegyek az egyes dictionary-kon\n",
    "    reviewslist.append(data['Reviews']) #az adott dictionary 'reviews' értékét hozzáadom egy listához\n",
    "\n",
    "maxreview = max(reviewslist)"
   ]
  },
  {
   "cell_type": "code",
   "execution_count": 4,
   "id": "65032450",
   "metadata": {},
   "outputs": [
    {
     "data": {
      "text/plain": [
       "300"
      ]
     },
     "execution_count": 4,
     "metadata": {},
     "output_type": "execute_result"
    }
   ],
   "source": [
    "maxreview"
   ]
  },
  {
   "cell_type": "code",
   "execution_count": 4,
   "id": "d748777b",
   "metadata": {},
   "outputs": [],
   "source": [
    "for data in dataset:\n",
    "    if data['Reviews'] < maxreview:\n",
    "        data['Score'] = (data['Score'] - ((maxreview - data['Reviews']) / 100) * 0.1)        "
   ]
  },
  {
   "cell_type": "code",
   "execution_count": 5,
   "id": "26a0c59e",
   "metadata": {},
   "outputs": [
    {
     "data": {
      "text/plain": [
       "[{'Name': 'Movie1', 'Reviews': 100, 'Oscar': 1, 'Score': 2.0},\n",
       " {'Name': 'Movie2', 'Reviews': 200, 'Oscar': 2, 'Score': 2.4},\n",
       " {'Name': 'Movie3', 'Reviews': 300, 'Oscar': 3, 'Score': 2.8}]"
      ]
     },
     "execution_count": 5,
     "metadata": {},
     "output_type": "execute_result"
    }
   ],
   "source": [
    "dataset"
   ]
  },
  {
   "cell_type": "code",
   "execution_count": 6,
   "id": "031e09ff",
   "metadata": {},
   "outputs": [],
   "source": [
    "for data in dataset:\n",
    "    if data['Oscar'] != 0:\n",
    "        data['Score'] = data['Score'] + (data['Oscar'] * 0.1)"
   ]
  },
  {
   "cell_type": "code",
   "execution_count": 8,
   "id": "fdcf383d",
   "metadata": {},
   "outputs": [
    {
     "data": {
      "text/plain": [
       "[{'Name': 'Movie1', 'Reviews': 100, 'Oscar': 1, 'Score': 2.1},\n",
       " {'Name': 'Movie2', 'Reviews': 200, 'Oscar': 2, 'Score': 2.6},\n",
       " {'Name': 'Movie3', 'Reviews': 300, 'Oscar': 3, 'Score': 3.0999999999999996}]"
      ]
     },
     "execution_count": 8,
     "metadata": {},
     "output_type": "execute_result"
    }
   ],
   "source": [
    "dataset"
   ]
  },
  {
   "cell_type": "code",
   "execution_count": null,
   "id": "1bccb2a7",
   "metadata": {},
   "outputs": [],
   "source": []
  },
  {
   "cell_type": "code",
   "execution_count": 13,
   "id": "840feb45",
   "metadata": {},
   "outputs": [],
   "source": [
    "dataset = sorted(dataset, key = lambda i: i['Score'], reverse = True)"
   ]
  },
  {
   "cell_type": "code",
   "execution_count": 14,
   "id": "7d323a2c",
   "metadata": {},
   "outputs": [
    {
     "data": {
      "text/plain": [
       "[{'Name': 'Movie3', 'Reviews': 300, 'Oscar': 3, 'Score': 3.0999999999999996},\n",
       " {'Name': 'Movie2', 'Reviews': 200, 'Oscar': 2, 'Score': 2.6},\n",
       " {'Name': 'Movie1', 'Reviews': 100, 'Oscar': 1, 'Score': 2.1}]"
      ]
     },
     "execution_count": 14,
     "metadata": {},
     "output_type": "execute_result"
    }
   ],
   "source": [
    "dataset"
   ]
  },
  {
   "cell_type": "code",
   "execution_count": null,
   "id": "8eda89ea",
   "metadata": {},
   "outputs": [],
   "source": []
  }
 ],
 "metadata": {
  "kernelspec": {
   "display_name": "Python 3 (ipykernel)",
   "language": "python",
   "name": "python3"
  },
  "language_info": {
   "codemirror_mode": {
    "name": "ipython",
    "version": 3
   },
   "file_extension": ".py",
   "mimetype": "text/x-python",
   "name": "python",
   "nbconvert_exporter": "python",
   "pygments_lexer": "ipython3",
   "version": "3.10.2"
  }
 },
 "nbformat": 4,
 "nbformat_minor": 5
}
