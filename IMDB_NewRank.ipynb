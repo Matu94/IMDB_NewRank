{
 "cells": [
  {
   "cell_type": "code",
   "execution_count": 1,
   "id": "709cdf8d",
   "metadata": {},
   "outputs": [],
   "source": [
    "dataset = [{\n",
    "        \"Name\" : \"Movie1\",\n",
    "        \"Reviews\" : 100,\n",
    "        \"Oscar\" : 1,\n",
    "        \"Score\" : 2.2\n",
    "    },\n",
    "   {\n",
    "        \"Name\" : \"Movie2\",\n",
    "        \"Reviews\" : 200,\n",
    "        \"Oscar\" : 2,\n",
    "        \"Score\" : 2.5\n",
    "   }, \n",
    "    {\n",
    "        \"Name\" : \"Movie3\",\n",
    "        \"Reviews\" : 300,\n",
    "        \"Oscar\" : 3,\n",
    "        \"Score\" : 2.8\n",
    "   } \n",
    "]"
   ]
  },
  {
   "cell_type": "code",
   "execution_count": 2,
   "id": "5ebb409f",
   "metadata": {},
   "outputs": [
    {
     "data": {
      "text/plain": [
       "[{'Name': 'Movie1', 'Reviews': 100, 'Oscar': 1, 'Score': 2.2},\n",
       " {'Name': 'Movie2', 'Reviews': 200, 'Oscar': 2, 'Score': 2.5},\n",
       " {'Name': 'Movie3', 'Reviews': 300, 'Oscar': 3, 'Score': 2.8}]"
      ]
     },
     "execution_count": 2,
     "metadata": {},
     "output_type": "execute_result"
    }
   ],
   "source": [
    "dataset"
   ]
  },
  {
   "cell_type": "code",
   "execution_count": 2,
   "id": "8a59ab25",
   "metadata": {},
   "outputs": [],
   "source": [
    "reviewslist = []\n",
    "for data in dataset: #végigmegyek az egyes dictionary-kon\n",
    "    reviewslist.append(data['Reviews']) #az adott dictionary 'reviews' értékét hozzáadom egy listához\n",
    "\n",
    "maxreview = max(reviewslist)"
   ]
  },
  {
   "cell_type": "code",
   "execution_count": 4,
   "id": "65032450",
   "metadata": {},
   "outputs": [
    {
     "data": {
      "text/plain": [
       "300"
      ]
     },
     "execution_count": 4,
     "metadata": {},
     "output_type": "execute_result"
    }
   ],
   "source": [
    "maxreview"
   ]
  },
  {
   "cell_type": "code",
   "execution_count": 4,
   "id": "d748777b",
   "metadata": {},
   "outputs": [],
   "source": [
    "for data in dataset:\n",
    "    if data['Reviews'] < maxreview:\n",
    "        data['Score'] = (data['Score'] - ((maxreview - data['Reviews']) / 100) * 0.1)        "
   ]
  },
  {
   "cell_type": "code",
   "execution_count": 5,
   "id": "26a0c59e",
   "metadata": {},
   "outputs": [
    {
     "data": {
      "text/plain": [
       "[{'Name': 'Movie1', 'Reviews': 100, 'Oscar': 1, 'Score': 2.0},\n",
       " {'Name': 'Movie2', 'Reviews': 200, 'Oscar': 2, 'Score': 2.4},\n",
       " {'Name': 'Movie3', 'Reviews': 300, 'Oscar': 3, 'Score': 2.8}]"
      ]
     },
     "execution_count": 5,
     "metadata": {},
     "output_type": "execute_result"
    }
   ],
   "source": [
    "dataset"
   ]
  },
  {
   "cell_type": "code",
   "execution_count": 6,
   "id": "031e09ff",
   "metadata": {},
   "outputs": [],
   "source": [
    "for data in dataset:\n",
    "    if data['Oscar'] != 0:\n",
    "        data['Score'] = data['Score'] + (data['Oscar'] * 0.1)"
   ]
  },
  {
   "cell_type": "code",
   "execution_count": 8,
   "id": "fdcf383d",
   "metadata": {},
   "outputs": [
    {
     "data": {
      "text/plain": [
       "[{'Name': 'Movie1', 'Reviews': 100, 'Oscar': 1, 'Score': 2.1},\n",
       " {'Name': 'Movie2', 'Reviews': 200, 'Oscar': 2, 'Score': 2.6},\n",
       " {'Name': 'Movie3', 'Reviews': 300, 'Oscar': 3, 'Score': 3.0999999999999996}]"
      ]
     },
     "execution_count": 8,
     "metadata": {},
     "output_type": "execute_result"
    }
   ],
   "source": [
    "dataset"
   ]
  },
  {
   "cell_type": "code",
   "execution_count": null,
   "id": "1bccb2a7",
   "metadata": {},
   "outputs": [],
   "source": []
  },
  {
   "cell_type": "code",
   "execution_count": 13,
   "id": "840feb45",
   "metadata": {},
   "outputs": [],
   "source": [
    "dataset = sorted(dataset, key = lambda i: i['Score'], reverse = True)"
   ]
  },
  {
   "cell_type": "code",
   "execution_count": 14,
   "id": "7d323a2c",
   "metadata": {},
   "outputs": [
    {
     "data": {
      "text/plain": [
       "[{'Name': 'Movie3', 'Reviews': 300, 'Oscar': 3, 'Score': 3.0999999999999996},\n",
       " {'Name': 'Movie2', 'Reviews': 200, 'Oscar': 2, 'Score': 2.6},\n",
       " {'Name': 'Movie1', 'Reviews': 100, 'Oscar': 1, 'Score': 2.1}]"
      ]
     },
     "execution_count": 14,
     "metadata": {},
     "output_type": "execute_result"
    }
   ],
   "source": [
    "dataset"
   ]
  },
  {
   "cell_type": "code",
   "execution_count": null,
   "id": "8eda89ea",
   "metadata": {},
   "outputs": [],
   "source": []
  }
 ],
 "metadata": {
  "kernelspec": {
   "display_name": "Python 3 (ipykernel)",
   "language": "python",
   "name": "python3"
  },
  "language_info": {
   "codemirror_mode": {
    "name": "ipython",
    "version": 3
   },
   "file_extension": ".py",
   "mimetype": "text/x-python",
   "name": "python",
   "nbconvert_exporter": "python",
   "pygments_lexer": "ipython3",
   "version": "3.10.2"
  }
 },
 "nbformat": 4,
 "nbformat_minor": 5
}
